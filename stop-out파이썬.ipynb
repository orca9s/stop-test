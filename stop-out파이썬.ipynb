{
 "cells": [
  {
   "cell_type": "markdown",
   "metadata": {},
   "source": [
    "1. 다음 리스트를 사용해 아래와 같은 문자열을 만들어 `girlsday_info`변수에 할당한 후, 콘솔에 내용을 출력하시오."
   ]
  },
  {
   "cell_type": "code",
   "execution_count": 1,
   "metadata": {},
   "outputs": [],
   "source": [
    "girlsday_members = ['민아', '혜리', '유라', '소진']"
   ]
  },
  {
   "cell_type": "code",
   "execution_count": 2,
   "metadata": {},
   "outputs": [],
   "source": [
    "for girlsday_info in girlsday_members:\n",
    "    print('-{}'.format(girlsday_info))"
   ]
  },
  {
   "cell_type": "markdown",
   "metadata": {},
   "source": [
    "2. `fruit_dict`객체를 사용해서 아래와 같은 결과값을 갖는 문자열을 만들어 `fruit_info`변수에 할당 한 후, 콘솔에 내용을 출력하시오."
   ]
  },
  {
   "cell_type": "code",
   "execution_count": 3,
   "metadata": {},
   "outputs": [],
   "source": [
    "fruit_dict ={\n",
    "    'red' : 'apple',\n",
    "    'yellow' : 'banana',\n",
    "    'green' : 'melon',\n",
    "}"
   ]
  },
  {
   "cell_type": "code",
   "execution_count": 4,
   "metadata": {},
   "outputs": [],
   "source": [
    "for color,fruit_info in enumerate(fruit_dict):\n",
    "    print('[{}] {} : {}'.format(color, fruit_info.upper(), fruit_dict[fruit_info].capitalize()))"
   ]
  },
  {
   "cell_type": "markdown",
   "metadata": {},
   "source": [
    "3. list의 `copy()`메서드가 하는 일과, `copy()`를 사용하지 않았을 때 발생할 수 있는 오류에 대한 예제 코드를 작성하시오\n",
    "\n",
    "list에서 copy()메서드가 하는일은 메모리를 더 할당시켜 복사를 해주는 일이다. 예를 들어 v = [1, 2, 3]이라는 리스트가 있을때 f = v 라고 해주면 똑같은 형태로 출력 된다. 하지만 이런식으로 복사를 하게되면 메모리 주소를 공유하게 되어 v의 값을 변경시키면 f의 값도 변경 됩니다. 하지만 copy()메서드를 사용하게 되면 메모리를 할당시켜 v값을 변경하여도 f의 값은 변하지 않고 기존 v의 값을 출력하게 됩니다.\n",
    "\n"
   ]
  },
  {
   "cell_type": "code",
   "execution_count": 5,
   "metadata": {},
   "outputs": [],
   "source": [
    "v =[1,2,3]\n",
    "f = v"
   ]
  },
  {
   "cell_type": "code",
   "execution_count": 6,
   "metadata": {},
   "outputs": [],
   "source": [
    "v[1]=3\n",
    "print(v)\n",
    "print(f)\n",
    "## copy()를 안쓰면 이처럼 v의값이 변하면 f 의값도 함께 바뀌어 버린다."
   ]
  },
  {
   "cell_type": "markdown",
   "metadata": {},
   "source": [
    "4. 1에서 30까지의 숫자 중, 3부터 시작해서 4번째마다의 숫자를 가지는 리스트를 생성하시오."
   ]
  },
  {
   "cell_type": "code",
   "execution_count": 7,
   "metadata": {},
   "outputs": [
    {
     "name": "stdout",
     "output_type": "stream",
     "text": [
      "[3, 7, 11, 15, 19, 23, 27]\n"
     ]
    }
   ],
   "source": [
    "result = []\n",
    "for i in range(3, 31, 4):\n",
    "        result.append(i)\n",
    "print(result)"
   ]
  },
  {
   "cell_type": "markdown",
   "metadata": {},
   "source": [
    "5. dict형 객체인 `obj`가 있다고 할 때, `obj['key']`와 `obj.get('key')`의 차이를 서술하시오\n",
    "\n",
    "obj.get('key')는 값이 없으면 None을 반환해주고 obj['key']는 에러를 발생한다."
   ]
  },
  {
   "cell_type": "markdown",
   "metadata": {},
   "source": [
    "6. 튜플 언패킹에 대해 서술하고, `pokemon_info` 객체를 순회할 때 튜플 언패킹을 사용하는 예제 코드를 작성하시오.\n",
    "\n",
    "튜플언패킹: 튜플의 요소를 변수 여러개에 할당하는 것 을 튜플 언패킹 이라고 부른다."
   ]
  },
  {
   "cell_type": "code",
   "execution_count": 8,
   "metadata": {},
   "outputs": [],
   "source": [
    "pokemon_info = [\n",
    "    ('피카츄', '전기 타입'),\n",
    "    ('파이리', '불 타입'),\n",
    "    ('꼬부기', '물 타입'),\n",
    "    ('이상해씨', '풀 타입'),\n",
    "]"
   ]
  },
  {
   "cell_type": "code",
   "execution_count": 9,
   "metadata": {},
   "outputs": [
    {
     "name": "stdout",
     "output_type": "stream",
     "text": [
      "이름: 피카츄 타입:전기 타입\n",
      "이름: 파이리 타입:불 타입\n",
      "이름: 꼬부기 타입:물 타입\n",
      "이름: 이상해씨 타입:풀 타입\n"
     ]
    }
   ],
   "source": [
    "for name, p_type in pokemon_info:\n",
    "    print('이름: {} 타입:{}'.format(name, p_type))"
   ]
  },
  {
   "cell_type": "markdown",
   "metadata": {},
   "source": [
    "7. 함수에서 위치인자와 키워드인자의 차이점에 대해 서술하시오."
   ]
  },
  {
   "cell_type": "markdown",
   "metadata": {},
   "source": [
    "위치인자: 우리가 함수에서 정의한 위치대로 대입을 해야한다. 순서대로 정확히 입력을 해야 정확한 값을 받을 수 있다. \n",
    "\n",
    "키워드 인자: 키워드 인자는 위치인자와 다르게 사용순서를 무시하고 입력 할 수 있다. 위치 인자와 키워드 인자는 혼합해서 사용할 경우 반드시 위치인자 뒤에 키워드 인자가 와야한다. 위치인자 앞에 키워드 인자를 쓰고 위치인자를 사용하면 안된다."
   ]
  },
  {
   "cell_type": "markdown",
   "metadata": {},
   "source": [
    "8. 클래스와 인스턴스의 다음 사항들에 대해 서술하시오\n",
    "클래스와 인스턴스의 차이점\n",
    "클래스란 똑같은 작업을 반복할때 사용할 수 있는 설계도면 같은 것이다(붕어빵 틀) 클래스에 의해서 만들어진 객체(붕어빵)를 인스턴스라고 한다. 인스턴스는 특정 객체가 어떤 클래스의 객체인지를 설명 할 때 사용한다.\n",
    "\n",
    "클래스의 생성자 함수 이름\n",
    "init이라는 생성자가 있다고 정의 하자 이 생성자를 통해서 객체가 생성될 때 어떤 변수의 값을 세팅하는 등 여러가지 작업을 할 수 있다. 예를 들어 name이라는 인자가 있으면 name이라는 인자를 가지고 클래스 내부의 name이라는 변수값을 초기화 시키고 객체가 생성되는 것 을 알리고 이름을 출력해 준다.\n",
    "\n",
    "클래스의 생성자 함수가 호출되는 시점은?\n",
    "name이라는 인자를 넘겨 받고 넘겨받은 인자를 가지고 self.name등의 값을 초기화 시킬때 호출 된다\n",
    "\n",
    "인스턴스 메서드의 self매개변수의 의미\n",
    "self는 현재의 인스턴스 객체를 가리키는 기능을 하는 매개변수이다."
   ]
  },
  {
   "cell_type": "markdown",
   "metadata": {},
   "source": [
    "9. `property`를 정의하는 방법에 대해 서술하시오.\n",
    "파이썬에서는 private속성에 접근하기 위해서 getter와 setter를 사용해야하는데 이를 사용하기 위해서 @property를 사용해야 한다.\n",
    "getter를 사용할 때는\n",
    "@property\n",
    "def create(self):\n",
    "    pass\n",
    "위와 같이 사용하면 되고\n",
    "setter를 사용하고 싶을 때는\n",
    "@create.setter\n",
    "def create(self):\n",
    "    pass\n",
    "이런식으로 사용할 수 있다."
   ]
  },
  {
   "cell_type": "markdown",
   "metadata": {},
   "source": [
    "10. 아래와 같은 `User`클래스가 있다. 이 클래스를 상속받은 `Student`클래스를 정의하고, 초기화 메서드에서 `name`과 함께`age`라는 매개변수를 추가로 사용해 인스턴스의 `age`속성을 추가로 정의하도록 한다."
   ]
  },
  {
   "cell_type": "code",
   "execution_count": 10,
   "metadata": {},
   "outputs": [],
   "source": [
    "class User:\n",
    "    def __init__(self, name):\n",
    "        self.name = name\n",
    "class Student(User):\n",
    "    def __init__(self,age):\n",
    "        super().__init__(name)\n",
    "        self.age = age"
   ]
  },
  {
   "cell_type": "markdown",
   "metadata": {},
   "source": [
    "super()메소드를 사용하는 이유\n",
    "자식 클래스에서 부모 클래스의 내용을 사용하고 싶을 때 사용한다.\n",
    "추가로 자식 클래스에서 따로 사용할 내용을 따로 지정해주면 부모에게서 상속받더라도 상속을 무시하고 따로 지정한 값을 사용할 수 있다."
   ]
  },
  {
   "cell_type": "markdown",
   "metadata": {},
   "source": [
    "11. `url`주소로부터 아래 결과를 출력한다.\n",
    "\n",
    "결과 출력\n",
    "\n",
    "```\n",
    "top[#2] 격전을 준비하세요! (수정)\n",
    "top격전 참여시 불건전 행위에 대한 주의사항 안내(수정)\n",
    "6월 6일(수) 서버 점검 안내\n",
    "PBE 인사이드 20화(8.12 패치 편) 방송 안내\n",
    "다시 돌아온 격전! 얼불져스 6/5(화) 방송 일정 안내\n",
    "1일 격전 테스트에 참여해 주세요\n",
    "대리 게임 등 적발 현황 262차 안내\n",
    "부정행위 프로그램 제재 현황 안내\n",
    "MadLife와 함께하는 입롤의 신 - 파이크편\n",
    "무작위 총력전 샤코 챔피언 비활성화 안내 (정상화)\n",
    "얼불져스 성적 예측 이벤트 당첨자 안내\n",
    "수수께끼 피규어(시리즈 2) 할인 판매!\n",
    "```\n",
    "\n",
    "> 공지사항이 추가되면 결과는 달라질 수 있으므로, 실제 게시판의 목록이 출력되는지 확인\n",
    "> \n",
    "> top이라는 텍스트는 포함되어도 무관"
   ]
  },
  {
   "cell_type": "code",
   "execution_count": 11,
   "metadata": {},
   "outputs": [],
   "source": [
    "url = 'http://www.leagueoflegends.co.kr/?m=news&cate=notice'"
   ]
  },
  {
   "cell_type": "code",
   "execution_count": 12,
   "metadata": {},
   "outputs": [],
   "source": [
    "import requests\n",
    "from bs4 import BeautifulSoup\n",
    "\n",
    "legend_url = requests.get(url)\n",
    "html = legend_url.text\n",
    "soup = BeautifulSoup(html, 'lxml')\n",
    "info_list = soup.select('td > a')"
   ]
  },
  {
   "cell_type": "code",
   "execution_count": 13,
   "metadata": {},
   "outputs": [
    {
     "name": "stdout",
     "output_type": "stream",
     "text": [
      "입롤의 신 - 파이크편 감상평 이벤트 당첨자 안내\n",
      "6월 15일 (금) Toss 결제 서비스 점검 안내\n",
      "인형 30% 할인 프로모션\n",
      "6월 13일(수) 서버 점검 및 업데이트 안내 (완료)\n",
      "대리 게임 등 적발 현황 263차 안내\n",
      "부정행위 프로그램 제재 현황 안내\n",
      "6월 2차 소환사 문화재지킴이 모집 안내\n",
      "일부 클라이언트 오류 현상에 대한 안내 (정상화)\n",
      "6월 6일(수) 서버 점검 안내 (완료)\n",
      "PBE 인사이드 20화(8.12 패치 편) 방송 안내\n"
     ]
    }
   ],
   "source": [
    "for i in info_list:\n",
    "    print(i.get_text())"
   ]
  },
  {
   "cell_type": "markdown",
   "metadata": {},
   "source": [
    "12. `url`주소에 있는 공지사항에 해당하는 `Notice`클래스를 만들고, 크롤링시 공지사항 하나마다 `Notice`클래스 인스턴스를 만들어 `notice_list`리스트에 추가한다. [10점]\n",
    "\n",
    "`notice_list`를 출력한 결과\n",
    "\n",
    "```\n",
    "for notice in notice_list:\n",
    "\tprint(notice.title)\n",
    "\tprint(notice.date)\n",
    "\tprint(notice.view)\n",
    "\tprint()\n",
    "```\n",
    "\n",
    "결과\n",
    "\n",
    "```\n",
    "top[#2] 격전을 준비하세요! (수정)\n",
    "2018-05-18\n",
    "17,698"
   ]
  },
  {
   "cell_type": "code",
   "execution_count": 14,
   "metadata": {},
   "outputs": [],
   "source": [
    "class Notice:\n",
    "    def __init__(self, title, date, view):\n",
    "        self.title = title\n",
    "        self.date = date\n",
    "        self.view = view\n",
    "notice_list = []\n",
    "legend_url = requests.get(url)\n",
    "html = legend_url.text\n",
    "soup = BeautifulSoup(html, 'lxml')\n",
    "title_list = soup.select('td > a')\n",
    "date_list = soup.select('tr > td:nth-of-type(2)')\n",
    "view_list = soup.select('tr > td:nth-of-type(3)')\n",
    "# 파싱한 데이터들을 Notice클래스의 인스턴스로 만들어서 notice_list에 추가\n",
    "for i in range(len(title_list)):\n",
    "    notice_list.append(Notice(title_list[i].get_text(), date_list[i].get_text(), view_list[i].get_text()))"
   ]
  },
  {
   "cell_type": "code",
   "execution_count": 15,
   "metadata": {},
   "outputs": [
    {
     "name": "stdout",
     "output_type": "stream",
     "text": [
      "입롤의 신 - 파이크편 감상평 이벤트 당첨자 안내\n",
      "2018-06-14\n",
      "609\n",
      "\n",
      "6월 15일 (금) Toss 결제 서비스 점검 안내\n",
      "2018-06-14\n",
      "352\n",
      "\n",
      "인형 30% 할인 프로모션\n",
      "2018-06-13\n",
      "8,462\n",
      "\n",
      "6월 13일(수) 서버 점검 및 업데이트 안내 (완료)\n",
      "2018-06-12\n",
      "23,853\n",
      "\n",
      "대리 게임 등 적발 현황 263차 안내\n",
      "2018-06-08\n",
      "6,844\n",
      "\n",
      "부정행위 프로그램 제재 현황 안내\n",
      "2018-06-08\n",
      "2,758\n",
      "\n",
      "6월 2차 소환사 문화재지킴이 모집 안내\n",
      "2018-06-08\n",
      "3,300\n",
      "\n",
      "일부 클라이언트 오류 현상에 대한 안내 (정상화)\n",
      "2018-06-06\n",
      "10,463\n",
      "\n",
      "6월 6일(수) 서버 점검 안내 (완료)\n",
      "2018-06-05\n",
      "40,898\n",
      "\n",
      "PBE 인사이드 20화(8.12 패치 편) 방송 안내\n",
      "2018-06-04\n",
      "9,846\n",
      "\n"
     ]
    }
   ],
   "source": [
    "for info in notice_list:\n",
    "    print(info.title)\n",
    "    print(info.date)\n",
    "    print(info.view)\n",
    "    print()"
   ]
  }
 ],
 "metadata": {
  "kernelspec": {
   "display_name": "Python 3",
   "language": "python",
   "name": "python3"
  },
  "language_info": {
   "codemirror_mode": {
    "name": "ipython",
    "version": 3
   },
   "file_extension": ".py",
   "mimetype": "text/x-python",
   "name": "python",
   "nbconvert_exporter": "python",
   "pygments_lexer": "ipython3",
   "version": "3.6.5"
  }
 },
 "nbformat": 4,
 "nbformat_minor": 2
}
